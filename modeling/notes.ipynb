{
 "cells": [
  {
   "cell_type": "code",
   "execution_count": 84,
   "metadata": {},
   "outputs": [],
   "source": [
    "import pandas as pd"
   ]
  },
  {
   "cell_type": "code",
   "execution_count": 85,
   "metadata": {},
   "outputs": [
    {
     "name": "stdout",
     "output_type": "stream",
     "text": [
      "(126, 1)\n"
     ]
    },
    {
     "data": {
      "text/html": [
       "<div>\n",
       "<style scoped>\n",
       "    .dataframe tbody tr th:only-of-type {\n",
       "        vertical-align: middle;\n",
       "    }\n",
       "\n",
       "    .dataframe tbody tr th {\n",
       "        vertical-align: top;\n",
       "    }\n",
       "\n",
       "    .dataframe thead th {\n",
       "        text-align: right;\n",
       "    }\n",
       "</style>\n",
       "<table border=\"1\" class=\"dataframe\">\n",
       "  <thead>\n",
       "    <tr style=\"text-align: right;\">\n",
       "      <th></th>\n",
       "      <th>0</th>\n",
       "    </tr>\n",
       "  </thead>\n",
       "  <tbody>\n",
       "    <tr>\n",
       "      <td>0</td>\n",
       "      <td>sigvart,https://www.leafly.com/indica/3x-crazy...</td>\n",
       "    </tr>\n",
       "    <tr>\n",
       "      <td>1</td>\n",
       "      <td>malia510,https://www.leafly.com/indica/3x-craz...</td>\n",
       "    </tr>\n",
       "    <tr>\n",
       "      <td>2</td>\n",
       "      <td>jabbathepot,https://www.leafly.com/indica/3x-c...</td>\n",
       "    </tr>\n",
       "    <tr>\n",
       "      <td>3</td>\n",
       "      <td>panYpaz,https://www.leafly.com/indica/3x-crazy...</td>\n",
       "    </tr>\n",
       "    <tr>\n",
       "      <td>4</td>\n",
       "      <td>allgovernmentsLIE,https://www.leafly.com/indic...</td>\n",
       "    </tr>\n",
       "    <tr>\n",
       "      <td>5</td>\n",
       "      <td>It's named \"Three Times Crazy\" because it is b...</td>\n",
       "    </tr>\n",
       "    <tr>\n",
       "      <td>6</td>\n",
       "      <td>str8westcoastin,https://www.leafly.com/indica/...</td>\n",
       "    </tr>\n",
       "    <tr>\n",
       "      <td>7</td>\n",
       "      <td>KDaddy3,https://www.leafly.com/indica/3x-crazy...</td>\n",
       "    </tr>\n",
       "    <tr>\n",
       "      <td>8</td>\n",
       "      <td>BigWu38,https://www.leafly.com/indica/3x-crazy...</td>\n",
       "    </tr>\n",
       "    <tr>\n",
       "      <td>9</td>\n",
       "      <td>WhiteWabit,https://www.leafly.com/indica/3x-cr...</td>\n",
       "    </tr>\n",
       "  </tbody>\n",
       "</table>\n",
       "</div>"
      ],
      "text/plain": [
       "                                                   0\n",
       "0  sigvart,https://www.leafly.com/indica/3x-crazy...\n",
       "1  malia510,https://www.leafly.com/indica/3x-craz...\n",
       "2  jabbathepot,https://www.leafly.com/indica/3x-c...\n",
       "3  panYpaz,https://www.leafly.com/indica/3x-crazy...\n",
       "4  allgovernmentsLIE,https://www.leafly.com/indic...\n",
       "5  It's named \"Three Times Crazy\" because it is b...\n",
       "6  str8westcoastin,https://www.leafly.com/indica/...\n",
       "7  KDaddy3,https://www.leafly.com/indica/3x-crazy...\n",
       "8  BigWu38,https://www.leafly.com/indica/3x-crazy...\n",
       "9  WhiteWabit,https://www.leafly.com/indica/3x-cr..."
      ]
     },
     "execution_count": 85,
     "metadata": {},
     "output_type": "execute_result"
    }
   ],
   "source": [
    "df = pd.read_csv('leafly_reviews_by_strain/3x-crazy.csv', sep='delimiter', engine='python', skiprows=2, header=None)\n",
    "print(df.shape)\n",
    "df.head(10)"
   ]
  },
  {
   "cell_type": "code",
   "execution_count": 86,
   "metadata": {},
   "outputs": [],
   "source": [
    "def clean_review(row):\n",
    "    \"\"\" Accepts pandas Series row and returns the Leafly review without username or link.\"\"\"\n",
    "    try:\n",
    "        if row.split(',')[1][:4] == 'http':\n",
    "            return \",\".join(row.split(',')[2:])\n",
    "    except:\n",
    "        pass\n",
    "    else: \n",
    "        return row"
   ]
  },
  {
   "cell_type": "code",
   "execution_count": 87,
   "metadata": {},
   "outputs": [],
   "source": [
    "strain='3x-crazy'"
   ]
  },
  {
   "cell_type": "code",
   "execution_count": 88,
   "metadata": {},
   "outputs": [],
   "source": [
    "# Wrangle\n",
    "df['strain'] = strain\n",
    "df['leafly_review'] = df[0].apply(lambda x: clean_review(x))\n",
    "df = df.drop(columns=[0])"
   ]
  },
  {
   "cell_type": "code",
   "execution_count": 89,
   "metadata": {},
   "outputs": [
    {
     "name": "stdout",
     "output_type": "stream",
     "text": [
      "(126, 2)\n"
     ]
    },
    {
     "data": {
      "text/html": [
       "<div>\n",
       "<style scoped>\n",
       "    .dataframe tbody tr th:only-of-type {\n",
       "        vertical-align: middle;\n",
       "    }\n",
       "\n",
       "    .dataframe tbody tr th {\n",
       "        vertical-align: top;\n",
       "    }\n",
       "\n",
       "    .dataframe thead th {\n",
       "        text-align: right;\n",
       "    }\n",
       "</style>\n",
       "<table border=\"1\" class=\"dataframe\">\n",
       "  <thead>\n",
       "    <tr style=\"text-align: right;\">\n",
       "      <th></th>\n",
       "      <th>strain</th>\n",
       "      <th>leafly_review</th>\n",
       "    </tr>\n",
       "  </thead>\n",
       "  <tbody>\n",
       "    <tr>\n",
       "      <td>0</td>\n",
       "      <td>3x-crazy</td>\n",
       "      <td>\"“Not what I expected (in a good sense).  I'm ...</td>\n",
       "    </tr>\n",
       "    <tr>\n",
       "      <td>1</td>\n",
       "      <td>3x-crazy</td>\n",
       "      <td>\"“I like this strain a lot.  It has beautiful ...</td>\n",
       "    </tr>\n",
       "    <tr>\n",
       "      <td>2</td>\n",
       "      <td>3x-crazy</td>\n",
       "      <td>\"“I said to the bud tender, \"Give me the couch...</td>\n",
       "    </tr>\n",
       "    <tr>\n",
       "      <td>3</td>\n",
       "      <td>3x-crazy</td>\n",
       "      <td>\"“3xCrazy is like getting hit with a water bal...</td>\n",
       "    </tr>\n",
       "    <tr>\n",
       "      <td>4</td>\n",
       "      <td>3x-crazy</td>\n",
       "      <td>\"“The color is a very deep purple with dramati...</td>\n",
       "    </tr>\n",
       "    <tr>\n",
       "      <td>5</td>\n",
       "      <td>3x-crazy</td>\n",
       "      <td>It's named \"Three Times Crazy\" because it is b...</td>\n",
       "    </tr>\n",
       "    <tr>\n",
       "      <td>6</td>\n",
       "      <td>3x-crazy</td>\n",
       "      <td>\"“knocked me the fuck out for 3 hours....not w...</td>\n",
       "    </tr>\n",
       "    <tr>\n",
       "      <td>7</td>\n",
       "      <td>3x-crazy</td>\n",
       "      <td>\"“This strain is fire, had me hella high feeli...</td>\n",
       "    </tr>\n",
       "    <tr>\n",
       "      <td>8</td>\n",
       "      <td>3x-crazy</td>\n",
       "      <td>\"“I got this more recently at the 101 North Di...</td>\n",
       "    </tr>\n",
       "    <tr>\n",
       "      <td>9</td>\n",
       "      <td>3x-crazy</td>\n",
       "      <td>\"“OPTIMUS PRIME from Little Egypt and that is ...</td>\n",
       "    </tr>\n",
       "  </tbody>\n",
       "</table>\n",
       "</div>"
      ],
      "text/plain": [
       "     strain                                      leafly_review\n",
       "0  3x-crazy  \"“Not what I expected (in a good sense).  I'm ...\n",
       "1  3x-crazy  \"“I like this strain a lot.  It has beautiful ...\n",
       "2  3x-crazy  \"“I said to the bud tender, \"Give me the couch...\n",
       "3  3x-crazy  \"“3xCrazy is like getting hit with a water bal...\n",
       "4  3x-crazy  \"“The color is a very deep purple with dramati...\n",
       "5  3x-crazy  It's named \"Three Times Crazy\" because it is b...\n",
       "6  3x-crazy  \"“knocked me the fuck out for 3 hours....not w...\n",
       "7  3x-crazy  \"“This strain is fire, had me hella high feeli...\n",
       "8  3x-crazy  \"“I got this more recently at the 101 North Di...\n",
       "9  3x-crazy  \"“OPTIMUS PRIME from Little Egypt and that is ..."
      ]
     },
     "execution_count": 89,
     "metadata": {},
     "output_type": "execute_result"
    }
   ],
   "source": [
    "print(reviews.shape)\n",
    "reviews.head(10)"
   ]
  }
 ],
 "metadata": {
  "file_extension": ".py",
  "kernelspec": {
   "display_name": "Python 3.7.4 64-bit ('anaconda3': virtualenv)",
   "language": "python",
   "name": "python37464bitanaconda3virtualenv65a814eb53f044979a1dd5d6ebe58fc2"
  },
  "language_info": {
   "codemirror_mode": {
    "name": "ipython",
    "version": 3
   },
   "file_extension": ".py",
   "mimetype": "text/x-python",
   "name": "python",
   "nbconvert_exporter": "python",
   "pygments_lexer": "ipython3",
   "version": "3.7.4"
  },
  "mimetype": "text/x-python",
  "name": "python",
  "npconvert_exporter": "python",
  "pygments_lexer": "ipython3",
  "version": 3
 },
 "nbformat": 4,
 "nbformat_minor": 4
}
