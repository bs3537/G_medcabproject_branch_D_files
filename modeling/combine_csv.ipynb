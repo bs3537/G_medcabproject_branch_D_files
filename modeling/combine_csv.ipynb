{
 "cells": [
  {
   "cell_type": "code",
   "execution_count": 1,
   "metadata": {},
   "outputs": [],
   "source": [
    "\"\"\"\n",
    " Python Script:\n",
    "  Combine/Merge multiple CSV files using the Pandas library\n",
    "\"\"\"\n",
    "from os import chdir\n",
    "from glob import glob\n",
    "import pandas as pd\n",
    "\n",
    "# Move to the path that holds CSV files\n",
    "csv_file_path = 'leafly_reviews_by_strain'\n",
    "chdir(csv_file_path)"
   ]
  },
  {
   "cell_type": "code",
   "execution_count": 2,
   "metadata": {},
   "outputs": [],
   "source": [
    "# List all CSV files in the working dir\n",
    "file_pattern = \"csv\"\n",
    "file_names = [file for file in glob('*.{}'.format(file_pattern))]"
   ]
  },
  {
   "cell_type": "code",
   "execution_count": 3,
   "metadata": {},
   "outputs": [],
   "source": [
    "def clean_review(row):\n",
    "    \"\"\" Accepts pandas Series row and returns the Leafly review without username or link.\"\"\"\n",
    "    try:\n",
    "        if row.split(',')[1][:4] == 'http':\n",
    "            return \",\".join(row.split(',')[2:])\n",
    "    except:\n",
    "        pass\n",
    "    else: \n",
    "        return row"
   ]
  },
  {
   "cell_type": "code",
   "execution_count": 5,
   "metadata": {},
   "outputs": [],
   "source": [
    "def combine_csv(file_names, file_out):\n",
    "    \"\"\"Consolidate all CSV files into single file\"\"\"\n",
    "    csv_array = []\n",
    "    \n",
    "    for file in file_names:\n",
    "        strain = file[:-4] \n",
    "        \n",
    "        try:\n",
    "            df = pd.read_csv(file, sep='delimiter', skiprows=2, header=None, engine='python')\n",
    "            \n",
    "            # Wrangle\n",
    "            df['strain'] = strain\n",
    "            df['leafly_review'] = df[0].apply(lambda x: clean_review(x))\n",
    "            df = df.drop(columns=[0])\n",
    "\n",
    "            csv_array.append(df)\n",
    "        except:\n",
    "            pass\n",
    "        \n",
    "    result = pd.concat(csv_array)\n",
    "        \n",
    "    # Convert the above object into a csv file and export\n",
    "    result.to_csv(file_out, index=False, encoding=\"utf-8\")\n",
    "\n",
    "file_out = \"/home/guillermo/Documents/repos/data-science/modeling/leafly_reviews.csv\"\n",
    "combine_csv(file_names, file_out)"
   ]
  },
  {
   "cell_type": "code",
   "execution_count": 9,
   "metadata": {},
   "outputs": [
    {
     "name": "stdout",
     "output_type": "stream",
     "text": [
      "(269335, 2)\n"
     ]
    },
    {
     "data": {
      "text/html": [
       "<div>\n",
       "<style scoped>\n",
       "    .dataframe tbody tr th:only-of-type {\n",
       "        vertical-align: middle;\n",
       "    }\n",
       "\n",
       "    .dataframe tbody tr th {\n",
       "        vertical-align: top;\n",
       "    }\n",
       "\n",
       "    .dataframe thead th {\n",
       "        text-align: right;\n",
       "    }\n",
       "</style>\n",
       "<table border=\"1\" class=\"dataframe\">\n",
       "  <thead>\n",
       "    <tr style=\"text-align: right;\">\n",
       "      <th></th>\n",
       "      <th>strain</th>\n",
       "      <th>leafly_review</th>\n",
       "    </tr>\n",
       "  </thead>\n",
       "  <tbody>\n",
       "    <tr>\n",
       "      <td>0</td>\n",
       "      <td>blues</td>\n",
       "      <td>\"“Unknown by origin Blues is unofficially only...</td>\n",
       "    </tr>\n",
       "    <tr>\n",
       "      <td>1</td>\n",
       "      <td>blues</td>\n",
       "      <td>\"“Grew out this strain. It is a stout strong p...</td>\n",
       "    </tr>\n",
       "    <tr>\n",
       "      <td>2</td>\n",
       "      <td>blues</td>\n",
       "      <td>\"“Hey guys am from the north of the uk ( Scunt...</td>\n",
       "    </tr>\n",
       "    <tr>\n",
       "      <td>3</td>\n",
       "      <td>blues</td>\n",
       "      <td>\"“This weed IS amazing DEPENDING on the grower...</td>\n",
       "    </tr>\n",
       "    <tr>\n",
       "      <td>4</td>\n",
       "      <td>blues</td>\n",
       "      <td>like I said it all depends on the grower , Per...</td>\n",
       "    </tr>\n",
       "    <tr>\n",
       "      <td>...</td>\n",
       "      <td>...</td>\n",
       "      <td>...</td>\n",
       "    </tr>\n",
       "    <tr>\n",
       "      <td>95</td>\n",
       "      <td>purple-haze</td>\n",
       "      <td>\"“Sativa aroma, clean smooth toke with nice \"p...</td>\n",
       "    </tr>\n",
       "    <tr>\n",
       "      <td>96</td>\n",
       "      <td>purple-haze</td>\n",
       "      <td>\"“Purple Haze, or \"Piff,\" is a term used to de...</td>\n",
       "    </tr>\n",
       "    <tr>\n",
       "      <td>97</td>\n",
       "      <td>purple-haze</td>\n",
       "      <td>Contrary to highly popular belief regarding ca...</td>\n",
       "    </tr>\n",
       "    <tr>\n",
       "      <td>98</td>\n",
       "      <td>purple-haze</td>\n",
       "      <td>\"“Purple Haze, or \"Piff,\" is a term used to de...</td>\n",
       "    </tr>\n",
       "    <tr>\n",
       "      <td>99</td>\n",
       "      <td>purple-haze</td>\n",
       "      <td>Contrary to highly popular belief regarding ca...</td>\n",
       "    </tr>\n",
       "  </tbody>\n",
       "</table>\n",
       "<p>100 rows × 2 columns</p>\n",
       "</div>"
      ],
      "text/plain": [
       "         strain                                      leafly_review\n",
       "0         blues  \"“Unknown by origin Blues is unofficially only...\n",
       "1         blues  \"“Grew out this strain. It is a stout strong p...\n",
       "2         blues  \"“Hey guys am from the north of the uk ( Scunt...\n",
       "3         blues  \"“This weed IS amazing DEPENDING on the grower...\n",
       "4         blues  like I said it all depends on the grower , Per...\n",
       "..          ...                                                ...\n",
       "95  purple-haze  \"“Sativa aroma, clean smooth toke with nice \"p...\n",
       "96  purple-haze  \"“Purple Haze, or \"Piff,\" is a term used to de...\n",
       "97  purple-haze  Contrary to highly popular belief regarding ca...\n",
       "98  purple-haze  \"“Purple Haze, or \"Piff,\" is a term used to de...\n",
       "99  purple-haze  Contrary to highly popular belief regarding ca...\n",
       "\n",
       "[100 rows x 2 columns]"
      ]
     },
     "execution_count": 9,
     "metadata": {},
     "output_type": "execute_result"
    }
   ],
   "source": [
    "chdir(\"/home/guillermo/Documents/repos/data-science/modeling\") \n",
    "df = pd.read_csv('leafly_reviews.csv')\n",
    "print(df.shape)\n",
    "df.head(100)"
   ]
  }
 ],
 "metadata": {
  "kernelspec": {
   "display_name": "Python 3.7.4 64-bit ('anaconda3': virtualenv)",
   "language": "python",
   "name": "python37464bitanaconda3virtualenv65a814eb53f044979a1dd5d6ebe58fc2"
  },
  "language_info": {
   "codemirror_mode": {
    "name": "ipython",
    "version": 3
   },
   "file_extension": ".py",
   "mimetype": "text/x-python",
   "name": "python",
   "nbconvert_exporter": "python",
   "pygments_lexer": "ipython3",
   "version": "3.7.4"
  }
 },
 "nbformat": 4,
 "nbformat_minor": 4
}
